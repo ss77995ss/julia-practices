{
 "cells": [
  {
   "cell_type": "markdown",
   "metadata": {},
   "source": [
    "# Julia 字元 (Char) 與字串 (String)\n",
    "\n",
    "## Day 008 作業：讀取使用者輸入字串，並印出每個字元\n",
    "\n",
    "1. 使用 `readline()` 函式，讀取使用者輸入之字串。`readline()`是從 console 讀取使用者輸入的方式，讀進來的資料型別為字串，`readline()`的說明可參照官方文件 [Base.readline](https://docs.julialang.org/en/v1/base/io-network/#Base.readline)"
   ]
  },
  {
   "cell_type": "code",
   "execution_count": 7,
   "metadata": {},
   "outputs": [
    {
     "name": "stdout",
     "output_type": "stream",
     "text": [
      "stdin> gajofdsjfoiasjfdsaoif\n"
     ]
    },
    {
     "data": {
      "text/plain": [
       "\"gajofdsjfoiasjfdsaoif\""
      ]
     },
     "execution_count": 7,
     "metadata": {},
     "output_type": "execute_result"
    }
   ],
   "source": [
    "str = readline()"
   ]
  },
  {
   "cell_type": "markdown",
   "metadata": {},
   "source": [
    "2. 印出字串中所有字元。"
   ]
  },
  {
   "cell_type": "code",
   "execution_count": 10,
   "metadata": {},
   "outputs": [
    {
     "name": "stdout",
     "output_type": "stream",
     "text": [
      "g, Char\n",
      "a, Char\n",
      "j, Char\n",
      "o, Char\n",
      "f, Char\n",
      "d, Char\n",
      "s, Char\n",
      "j, Char\n",
      "f, Char\n",
      "o, Char\n",
      "i, Char\n",
      "a, Char\n",
      "s, Char\n",
      "j, Char\n",
      "f, Char\n",
      "d, Char\n",
      "s, Char\n",
      "a, Char\n",
      "o, Char\n",
      "i, Char\n",
      "f, Char\n"
     ]
    }
   ],
   "source": [
    "# 程式碼\n",
    "for i = 1:length(str)\n",
    "    println(\"$(str[i]), $(typeof(str[i]))\")\n",
    "end"
   ]
  }
 ],
 "metadata": {
  "kernelspec": {
   "display_name": "Julia 1.0.5",
   "language": "julia",
   "name": "julia-1.0"
  },
  "language_info": {
   "file_extension": ".jl",
   "mimetype": "application/julia",
   "name": "julia",
   "version": "1.0.5"
  }
 },
 "nbformat": 4,
 "nbformat_minor": 4
}
